{
 "cells": [
  {
   "cell_type": "code",
   "execution_count": null,
   "metadata": {},
   "outputs": [],
   "source": [
    "import matplotlib.pyplot as plt\n",
    "import IPython.display as display\n",
    "import numpy as np\n",
    "from orbitals import OrbitalMotion, EulerIntegrator\n"
   ]
  },
  {
   "cell_type": "code",
   "execution_count": 1,
   "metadata": {},
   "outputs": [
    {
     "ename": "NameError",
     "evalue": "name 'OrbitalMotion' is not defined",
     "output_type": "error",
     "traceback": [
      "\u001b[0;31m---------------------------------------------------------------------------\u001b[0m",
      "\u001b[0;31mNameError\u001b[0m                                 Traceback (most recent call last)",
      "Cell \u001b[0;32mIn[1], line 2\u001b[0m\n\u001b[1;32m      1\u001b[0m \u001b[38;5;66;03m# Initialize orbital motion and integrator\u001b[39;00m\n\u001b[0;32m----> 2\u001b[0m eq \u001b[38;5;241m=\u001b[39m OrbitalMotion(G\u001b[38;5;241m=\u001b[39m\u001b[38;5;241m1.0\u001b[39m, M\u001b[38;5;241m=\u001b[39m\u001b[38;5;241m1.0\u001b[39m)\n\u001b[1;32m      3\u001b[0m dt \u001b[38;5;241m=\u001b[39m \u001b[38;5;241m0.00001\u001b[39m\n\u001b[1;32m      4\u001b[0m integrator \u001b[38;5;241m=\u001b[39m EulerIntegrator(eq, dt)\n",
      "\u001b[0;31mNameError\u001b[0m: name 'OrbitalMotion' is not defined"
     ]
    }
   ],
   "source": [
    "# Initialize orbital motion and integrator\n",
    "eq = OrbitalMotion(G=1.0, M=1.0)\n",
    "dt = 0.00001\n",
    "integrator = EulerIntegrator(eq, dt)\n",
    "t, state = 0, [1.0, 0.0, 0.0, 0.5] # (x, y, vx, vy)\n",
    "fig, ax = plt.subplots()\n",
    "line, = ax.plot([], [],'b-')\n",
    "ax.plot(0, 0, 'yo', markersize=12, label=\"Star\") # 'yo' = yellow circle\n",
    "nsteps = 1000000\n",
    "trajectory = np.zeros((nsteps, 2))\n",
    "for i in range(nsteps):\n",
    "    t, state = integrator.step(t, state)\n",
    "    trajectory[i] = state[:2]\n",
    "    if i % 10000 == 0:\n",
    "        line.set_xdata(trajectory[:i, 0])\n",
    "        line.set_ydata(trajectory[:i, 1])\n",
    "        ax.relim()\n",
    "        ax.autoscale_view()\n",
    "        display.clear_output(wait=True) # Clear previous frame\n",
    "        display.display(fig) # Show updated figure"
   ]
  }
 ],
 "metadata": {
  "kernelspec": {
   "display_name": "orbitals-env",
   "language": "python",
   "name": "python3"
  },
  "language_info": {
   "codemirror_mode": {
    "name": "ipython",
    "version": 3
   },
   "file_extension": ".py",
   "mimetype": "text/x-python",
   "name": "python",
   "nbconvert_exporter": "python",
   "pygments_lexer": "ipython3",
   "version": "3.13.2"
  }
 },
 "nbformat": 4,
 "nbformat_minor": 2
}
